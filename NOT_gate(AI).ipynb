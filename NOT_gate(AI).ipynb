{
  "nbformat": 4,
  "nbformat_minor": 0,
  "metadata": {
    "colab": {
      "name": "NOT_gate(AI).ipynb",
      "provenance": [],
      "collapsed_sections": [],
      "authorship_tag": "ABX9TyMmizLpXCDHfC9yikr2ETaJ",
      "include_colab_link": true
    },
    "kernelspec": {
      "name": "python3",
      "display_name": "Python 3"
    },
    "language_info": {
      "name": "python"
    }
  },
  "cells": [
    {
      "cell_type": "markdown",
      "metadata": {
        "id": "view-in-github",
        "colab_type": "text"
      },
      "source": [
        "<a href=\"https://colab.research.google.com/github/Sahil-Naik/Ai-ML/blob/main/NOT_gate(AI).ipynb\" target=\"_parent\"><img src=\"https://colab.research.google.com/assets/colab-badge.svg\" alt=\"Open In Colab\"/></a>"
      ]
    },
    {
      "cell_type": "code",
      "metadata": {
        "id": "ZSY5T1VySDwL"
      },
      "source": [
        "import tensorflow as tf\n",
        "import numpy as np\n",
        "import pandas as pd\n",
        "import sys\n",
        "import matplotlib.pyplot as plt"
      ],
      "execution_count": 1,
      "outputs": []
    },
    {
      "cell_type": "code",
      "metadata": {
        "id": "UVCBie4S1Pgc"
      },
      "source": [
        "training_data = np.array([[0],[1]], \"float32\")\n",
        "target_data = np.array([[1],[0]], \"float32\")"
      ],
      "execution_count": 2,
      "outputs": []
    },
    {
      "cell_type": "code",
      "metadata": {
        "id": "A-z6zW211w3A"
      },
      "source": [
        "my_model = tf.keras.models.Sequential()\n",
        "my_model.add(tf.keras.layers.Dense(4, input_dim=1, activation='relu'))\n",
        "my_model.add(tf.keras.layers.Dense(1, activation='sigmoid'))"
      ],
      "execution_count": 3,
      "outputs": []
    },
    {
      "cell_type": "code",
      "metadata": {
        "colab": {
          "base_uri": "https://localhost:8080/"
        },
        "id": "wmn0EuTC2J6I",
        "outputId": "3341bfdc-6eae-482a-9439-f077d2b21789"
      },
      "source": [
        "my_model.compile(loss='mean_squared_error', optimizer='adam', metrics=['binary_accuracy'])\n",
        "my_model.summary()"
      ],
      "execution_count": 4,
      "outputs": [
        {
          "output_type": "stream",
          "name": "stdout",
          "text": [
            "Model: \"sequential\"\n",
            "_________________________________________________________________\n",
            " Layer (type)                Output Shape              Param #   \n",
            "=================================================================\n",
            " dense (Dense)               (None, 4)                 8         \n",
            "                                                                 \n",
            " dense_1 (Dense)             (None, 1)                 5         \n",
            "                                                                 \n",
            "=================================================================\n",
            "Total params: 13\n",
            "Trainable params: 13\n",
            "Non-trainable params: 0\n",
            "_________________________________________________________________\n"
          ]
        }
      ]
    },
    {
      "cell_type": "code",
      "metadata": {
        "id": "i30yCaNL3pG_",
        "colab": {
          "base_uri": "https://localhost:8080/"
        },
        "outputId": "3d38df73-8217-4083-d391-57580bcc017a"
      },
      "source": [
        "history = my_model.fit(training_data, target_data, epochs=100, verbose=2)"
      ],
      "execution_count": 5,
      "outputs": [
        {
          "output_type": "stream",
          "name": "stdout",
          "text": [
            "Epoch 1/100\n",
            "1/1 - 1s - loss: 0.2468 - binary_accuracy: 0.5000 - 561ms/epoch - 561ms/step\n",
            "Epoch 2/100\n",
            "1/1 - 0s - loss: 0.2461 - binary_accuracy: 0.5000 - 9ms/epoch - 9ms/step\n",
            "Epoch 3/100\n",
            "1/1 - 0s - loss: 0.2455 - binary_accuracy: 0.5000 - 10ms/epoch - 10ms/step\n",
            "Epoch 4/100\n",
            "1/1 - 0s - loss: 0.2448 - binary_accuracy: 1.0000 - 6ms/epoch - 6ms/step\n",
            "Epoch 5/100\n",
            "1/1 - 0s - loss: 0.2442 - binary_accuracy: 1.0000 - 8ms/epoch - 8ms/step\n",
            "Epoch 6/100\n",
            "1/1 - 0s - loss: 0.2435 - binary_accuracy: 1.0000 - 6ms/epoch - 6ms/step\n",
            "Epoch 7/100\n",
            "1/1 - 0s - loss: 0.2429 - binary_accuracy: 1.0000 - 8ms/epoch - 8ms/step\n",
            "Epoch 8/100\n",
            "1/1 - 0s - loss: 0.2422 - binary_accuracy: 1.0000 - 8ms/epoch - 8ms/step\n",
            "Epoch 9/100\n",
            "1/1 - 0s - loss: 0.2416 - binary_accuracy: 1.0000 - 6ms/epoch - 6ms/step\n",
            "Epoch 10/100\n",
            "1/1 - 0s - loss: 0.2410 - binary_accuracy: 1.0000 - 12ms/epoch - 12ms/step\n",
            "Epoch 11/100\n",
            "1/1 - 0s - loss: 0.2403 - binary_accuracy: 1.0000 - 8ms/epoch - 8ms/step\n",
            "Epoch 12/100\n",
            "1/1 - 0s - loss: 0.2397 - binary_accuracy: 1.0000 - 5ms/epoch - 5ms/step\n",
            "Epoch 13/100\n",
            "1/1 - 0s - loss: 0.2390 - binary_accuracy: 1.0000 - 5ms/epoch - 5ms/step\n",
            "Epoch 14/100\n",
            "1/1 - 0s - loss: 0.2384 - binary_accuracy: 1.0000 - 5ms/epoch - 5ms/step\n",
            "Epoch 15/100\n",
            "1/1 - 0s - loss: 0.2378 - binary_accuracy: 1.0000 - 5ms/epoch - 5ms/step\n",
            "Epoch 16/100\n",
            "1/1 - 0s - loss: 0.2371 - binary_accuracy: 1.0000 - 5ms/epoch - 5ms/step\n",
            "Epoch 17/100\n",
            "1/1 - 0s - loss: 0.2365 - binary_accuracy: 1.0000 - 7ms/epoch - 7ms/step\n",
            "Epoch 18/100\n",
            "1/1 - 0s - loss: 0.2359 - binary_accuracy: 1.0000 - 5ms/epoch - 5ms/step\n",
            "Epoch 19/100\n",
            "1/1 - 0s - loss: 0.2352 - binary_accuracy: 1.0000 - 5ms/epoch - 5ms/step\n",
            "Epoch 20/100\n",
            "1/1 - 0s - loss: 0.2346 - binary_accuracy: 1.0000 - 6ms/epoch - 6ms/step\n",
            "Epoch 21/100\n",
            "1/1 - 0s - loss: 0.2340 - binary_accuracy: 1.0000 - 5ms/epoch - 5ms/step\n",
            "Epoch 22/100\n",
            "1/1 - 0s - loss: 0.2334 - binary_accuracy: 1.0000 - 6ms/epoch - 6ms/step\n",
            "Epoch 23/100\n",
            "1/1 - 0s - loss: 0.2327 - binary_accuracy: 1.0000 - 4ms/epoch - 4ms/step\n",
            "Epoch 24/100\n",
            "1/1 - 0s - loss: 0.2321 - binary_accuracy: 1.0000 - 4ms/epoch - 4ms/step\n",
            "Epoch 25/100\n",
            "1/1 - 0s - loss: 0.2315 - binary_accuracy: 1.0000 - 5ms/epoch - 5ms/step\n",
            "Epoch 26/100\n",
            "1/1 - 0s - loss: 0.2309 - binary_accuracy: 1.0000 - 5ms/epoch - 5ms/step\n",
            "Epoch 27/100\n",
            "1/1 - 0s - loss: 0.2303 - binary_accuracy: 1.0000 - 4ms/epoch - 4ms/step\n",
            "Epoch 28/100\n",
            "1/1 - 0s - loss: 0.2297 - binary_accuracy: 1.0000 - 5ms/epoch - 5ms/step\n",
            "Epoch 29/100\n",
            "1/1 - 0s - loss: 0.2290 - binary_accuracy: 1.0000 - 7ms/epoch - 7ms/step\n",
            "Epoch 30/100\n",
            "1/1 - 0s - loss: 0.2284 - binary_accuracy: 1.0000 - 4ms/epoch - 4ms/step\n",
            "Epoch 31/100\n",
            "1/1 - 0s - loss: 0.2278 - binary_accuracy: 1.0000 - 4ms/epoch - 4ms/step\n",
            "Epoch 32/100\n",
            "1/1 - 0s - loss: 0.2272 - binary_accuracy: 1.0000 - 7ms/epoch - 7ms/step\n",
            "Epoch 33/100\n",
            "1/1 - 0s - loss: 0.2266 - binary_accuracy: 1.0000 - 5ms/epoch - 5ms/step\n",
            "Epoch 34/100\n",
            "1/1 - 0s - loss: 0.2260 - binary_accuracy: 1.0000 - 4ms/epoch - 4ms/step\n",
            "Epoch 35/100\n",
            "1/1 - 0s - loss: 0.2254 - binary_accuracy: 1.0000 - 6ms/epoch - 6ms/step\n",
            "Epoch 36/100\n",
            "1/1 - 0s - loss: 0.2248 - binary_accuracy: 1.0000 - 4ms/epoch - 4ms/step\n",
            "Epoch 37/100\n",
            "1/1 - 0s - loss: 0.2242 - binary_accuracy: 1.0000 - 4ms/epoch - 4ms/step\n",
            "Epoch 38/100\n",
            "1/1 - 0s - loss: 0.2236 - binary_accuracy: 1.0000 - 6ms/epoch - 6ms/step\n",
            "Epoch 39/100\n",
            "1/1 - 0s - loss: 0.2230 - binary_accuracy: 1.0000 - 4ms/epoch - 4ms/step\n",
            "Epoch 40/100\n",
            "1/1 - 0s - loss: 0.2224 - binary_accuracy: 1.0000 - 7ms/epoch - 7ms/step\n",
            "Epoch 41/100\n",
            "1/1 - 0s - loss: 0.2218 - binary_accuracy: 1.0000 - 5ms/epoch - 5ms/step\n",
            "Epoch 42/100\n",
            "1/1 - 0s - loss: 0.2212 - binary_accuracy: 1.0000 - 6ms/epoch - 6ms/step\n",
            "Epoch 43/100\n",
            "1/1 - 0s - loss: 0.2206 - binary_accuracy: 1.0000 - 4ms/epoch - 4ms/step\n",
            "Epoch 44/100\n",
            "1/1 - 0s - loss: 0.2200 - binary_accuracy: 1.0000 - 6ms/epoch - 6ms/step\n",
            "Epoch 45/100\n",
            "1/1 - 0s - loss: 0.2195 - binary_accuracy: 1.0000 - 5ms/epoch - 5ms/step\n",
            "Epoch 46/100\n",
            "1/1 - 0s - loss: 0.2189 - binary_accuracy: 1.0000 - 5ms/epoch - 5ms/step\n",
            "Epoch 47/100\n",
            "1/1 - 0s - loss: 0.2183 - binary_accuracy: 1.0000 - 4ms/epoch - 4ms/step\n",
            "Epoch 48/100\n",
            "1/1 - 0s - loss: 0.2177 - binary_accuracy: 1.0000 - 6ms/epoch - 6ms/step\n",
            "Epoch 49/100\n",
            "1/1 - 0s - loss: 0.2171 - binary_accuracy: 1.0000 - 4ms/epoch - 4ms/step\n",
            "Epoch 50/100\n",
            "1/1 - 0s - loss: 0.2166 - binary_accuracy: 1.0000 - 7ms/epoch - 7ms/step\n",
            "Epoch 51/100\n",
            "1/1 - 0s - loss: 0.2160 - binary_accuracy: 1.0000 - 5ms/epoch - 5ms/step\n",
            "Epoch 52/100\n",
            "1/1 - 0s - loss: 0.2154 - binary_accuracy: 1.0000 - 4ms/epoch - 4ms/step\n",
            "Epoch 53/100\n",
            "1/1 - 0s - loss: 0.2148 - binary_accuracy: 1.0000 - 7ms/epoch - 7ms/step\n",
            "Epoch 54/100\n",
            "1/1 - 0s - loss: 0.2143 - binary_accuracy: 1.0000 - 4ms/epoch - 4ms/step\n",
            "Epoch 55/100\n",
            "1/1 - 0s - loss: 0.2137 - binary_accuracy: 1.0000 - 6ms/epoch - 6ms/step\n",
            "Epoch 56/100\n",
            "1/1 - 0s - loss: 0.2131 - binary_accuracy: 1.0000 - 4ms/epoch - 4ms/step\n",
            "Epoch 57/100\n",
            "1/1 - 0s - loss: 0.2126 - binary_accuracy: 1.0000 - 4ms/epoch - 4ms/step\n",
            "Epoch 58/100\n",
            "1/1 - 0s - loss: 0.2120 - binary_accuracy: 1.0000 - 4ms/epoch - 4ms/step\n",
            "Epoch 59/100\n",
            "1/1 - 0s - loss: 0.2114 - binary_accuracy: 1.0000 - 8ms/epoch - 8ms/step\n",
            "Epoch 60/100\n",
            "1/1 - 0s - loss: 0.2109 - binary_accuracy: 1.0000 - 4ms/epoch - 4ms/step\n",
            "Epoch 61/100\n",
            "1/1 - 0s - loss: 0.2103 - binary_accuracy: 1.0000 - 4ms/epoch - 4ms/step\n",
            "Epoch 62/100\n",
            "1/1 - 0s - loss: 0.2098 - binary_accuracy: 1.0000 - 4ms/epoch - 4ms/step\n",
            "Epoch 63/100\n",
            "1/1 - 0s - loss: 0.2092 - binary_accuracy: 1.0000 - 7ms/epoch - 7ms/step\n",
            "Epoch 64/100\n",
            "1/1 - 0s - loss: 0.2087 - binary_accuracy: 1.0000 - 4ms/epoch - 4ms/step\n",
            "Epoch 65/100\n",
            "1/1 - 0s - loss: 0.2081 - binary_accuracy: 1.0000 - 4ms/epoch - 4ms/step\n",
            "Epoch 66/100\n",
            "1/1 - 0s - loss: 0.2076 - binary_accuracy: 1.0000 - 7ms/epoch - 7ms/step\n",
            "Epoch 67/100\n",
            "1/1 - 0s - loss: 0.2070 - binary_accuracy: 1.0000 - 4ms/epoch - 4ms/step\n",
            "Epoch 68/100\n",
            "1/1 - 0s - loss: 0.2065 - binary_accuracy: 1.0000 - 4ms/epoch - 4ms/step\n",
            "Epoch 69/100\n",
            "1/1 - 0s - loss: 0.2059 - binary_accuracy: 1.0000 - 7ms/epoch - 7ms/step\n",
            "Epoch 70/100\n",
            "1/1 - 0s - loss: 0.2054 - binary_accuracy: 1.0000 - 4ms/epoch - 4ms/step\n",
            "Epoch 71/100\n",
            "1/1 - 0s - loss: 0.2048 - binary_accuracy: 1.0000 - 4ms/epoch - 4ms/step\n",
            "Epoch 72/100\n",
            "1/1 - 0s - loss: 0.2043 - binary_accuracy: 1.0000 - 10ms/epoch - 10ms/step\n",
            "Epoch 73/100\n",
            "1/1 - 0s - loss: 0.2038 - binary_accuracy: 1.0000 - 4ms/epoch - 4ms/step\n",
            "Epoch 74/100\n",
            "1/1 - 0s - loss: 0.2032 - binary_accuracy: 1.0000 - 4ms/epoch - 4ms/step\n",
            "Epoch 75/100\n",
            "1/1 - 0s - loss: 0.2027 - binary_accuracy: 1.0000 - 4ms/epoch - 4ms/step\n",
            "Epoch 76/100\n",
            "1/1 - 0s - loss: 0.2022 - binary_accuracy: 1.0000 - 8ms/epoch - 8ms/step\n",
            "Epoch 77/100\n",
            "1/1 - 0s - loss: 0.2016 - binary_accuracy: 1.0000 - 4ms/epoch - 4ms/step\n",
            "Epoch 78/100\n",
            "1/1 - 0s - loss: 0.2011 - binary_accuracy: 1.0000 - 4ms/epoch - 4ms/step\n",
            "Epoch 79/100\n",
            "1/1 - 0s - loss: 0.2006 - binary_accuracy: 1.0000 - 5ms/epoch - 5ms/step\n",
            "Epoch 80/100\n",
            "1/1 - 0s - loss: 0.2001 - binary_accuracy: 1.0000 - 9ms/epoch - 9ms/step\n",
            "Epoch 81/100\n",
            "1/1 - 0s - loss: 0.1995 - binary_accuracy: 1.0000 - 7ms/epoch - 7ms/step\n",
            "Epoch 82/100\n",
            "1/1 - 0s - loss: 0.1990 - binary_accuracy: 1.0000 - 10ms/epoch - 10ms/step\n",
            "Epoch 83/100\n",
            "1/1 - 0s - loss: 0.1985 - binary_accuracy: 1.0000 - 7ms/epoch - 7ms/step\n",
            "Epoch 84/100\n",
            "1/1 - 0s - loss: 0.1980 - binary_accuracy: 1.0000 - 6ms/epoch - 6ms/step\n",
            "Epoch 85/100\n",
            "1/1 - 0s - loss: 0.1974 - binary_accuracy: 1.0000 - 6ms/epoch - 6ms/step\n",
            "Epoch 86/100\n",
            "1/1 - 0s - loss: 0.1969 - binary_accuracy: 1.0000 - 8ms/epoch - 8ms/step\n",
            "Epoch 87/100\n",
            "1/1 - 0s - loss: 0.1964 - binary_accuracy: 1.0000 - 7ms/epoch - 7ms/step\n",
            "Epoch 88/100\n",
            "1/1 - 0s - loss: 0.1959 - binary_accuracy: 1.0000 - 6ms/epoch - 6ms/step\n",
            "Epoch 89/100\n",
            "1/1 - 0s - loss: 0.1954 - binary_accuracy: 1.0000 - 7ms/epoch - 7ms/step\n",
            "Epoch 90/100\n",
            "1/1 - 0s - loss: 0.1949 - binary_accuracy: 1.0000 - 7ms/epoch - 7ms/step\n",
            "Epoch 91/100\n",
            "1/1 - 0s - loss: 0.1944 - binary_accuracy: 1.0000 - 8ms/epoch - 8ms/step\n",
            "Epoch 92/100\n",
            "1/1 - 0s - loss: 0.1939 - binary_accuracy: 1.0000 - 8ms/epoch - 8ms/step\n",
            "Epoch 93/100\n",
            "1/1 - 0s - loss: 0.1934 - binary_accuracy: 1.0000 - 11ms/epoch - 11ms/step\n",
            "Epoch 94/100\n",
            "1/1 - 0s - loss: 0.1928 - binary_accuracy: 1.0000 - 9ms/epoch - 9ms/step\n",
            "Epoch 95/100\n",
            "1/1 - 0s - loss: 0.1923 - binary_accuracy: 1.0000 - 14ms/epoch - 14ms/step\n",
            "Epoch 96/100\n",
            "1/1 - 0s - loss: 0.1918 - binary_accuracy: 1.0000 - 8ms/epoch - 8ms/step\n",
            "Epoch 97/100\n",
            "1/1 - 0s - loss: 0.1913 - binary_accuracy: 1.0000 - 8ms/epoch - 8ms/step\n",
            "Epoch 98/100\n",
            "1/1 - 0s - loss: 0.1908 - binary_accuracy: 1.0000 - 7ms/epoch - 7ms/step\n",
            "Epoch 99/100\n",
            "1/1 - 0s - loss: 0.1904 - binary_accuracy: 1.0000 - 11ms/epoch - 11ms/step\n",
            "Epoch 100/100\n",
            "1/1 - 0s - loss: 0.1899 - binary_accuracy: 1.0000 - 7ms/epoch - 7ms/step\n"
          ]
        }
      ]
    },
    {
      "cell_type": "code",
      "metadata": {
        "colab": {
          "base_uri": "https://localhost:8080/"
        },
        "id": "SSuVei_O31MN",
        "outputId": "16dd60b9-5cd2-4920-b9dd-06ba39aceeaf"
      },
      "source": [
        "print(my_model.predict(training_data).round())"
      ],
      "execution_count": 6,
      "outputs": [
        {
          "output_type": "stream",
          "name": "stdout",
          "text": [
            "[[1.]\n",
            " [0.]]\n"
          ]
        }
      ]
    },
    {
      "cell_type": "code",
      "metadata": {
        "colab": {
          "base_uri": "https://localhost:8080/",
          "height": 281
        },
        "id": "ZXgKwbhu41YV",
        "outputId": "3e1c25cf-ed1b-4b8d-ebee-31a39717efee"
      },
      "source": [
        "loss_curver = history.history['loss']\n",
        "acc_curver = history.history['binary_accuracy']\n",
        "plt.plot(loss_curver, label='Train')\n",
        "plt.legend(loc='lower left')\n",
        "plt.title('Loss')\n",
        "plt.show()"
      ],
      "execution_count": 7,
      "outputs": [
        {
          "output_type": "display_data",
          "data": {
            "image/png": "[encoded data removed]",
            "text/plain": [
              "<Figure size 432x288 with 1 Axes>"
            ]
          },
          "metadata": {
            "needs_background": "light"
          }
        }
      ]
    },
    {
      "cell_type": "code",
      "metadata": {
        "colab": {
          "base_uri": "https://localhost:8080/",
          "height": 281
        },
        "id": "CFkCyo1q5OWO",
        "outputId": "d7a3c8c9-5915-48d7-d98f-2b7356d001b7"
      },
      "source": [
        "plt.plot(acc_curver, label='Train')\n",
        "plt.legend(loc='upper left')\n",
        "plt.title('Accuracy')\n",
        "plt.show()"
      ],
      "execution_count": 8,
      "outputs": [
        {
          "output_type": "display_data",
          "data": {
            "image/png": "[encoded data removed]",
            "text/plain": [
              "<Figure size 432x288 with 1 Axes>"
            ]
          },
          "metadata": {
            "needs_background": "light"
          }
        }
      ]
    },
    {
      "cell_type": "code",
      "metadata": {
        "colab": {
          "base_uri": "https://localhost:8080/"
        },
        "id": "-x4myDOb5Xdn",
        "outputId": "e4261165-efb2-48e2-9110-092c7feaab8b"
      },
      "source": [
        "test_data = np.array([[1],[0]])\n",
        "history2 = my_model.evaluate(test_data, verbose=2)"
      ],
      "execution_count": 17,
      "outputs": [
        {
          "output_type": "stream",
          "name": "stdout",
          "text": [
            "1/1 - 0s - loss: 0.0000e+00 - binary_accuracy: 0.0000e+00 - 16ms/epoch - 16ms/step\n"
          ]
        }
      ]
    },
    {
      "cell_type": "code",
      "metadata": {
        "colab": {
          "base_uri": "https://localhost:8080/"
        },
        "id": "QMCBTxwW8a75",
        "outputId": "0eaadf7b-ef62-4b30-fd17-c9ed65a082bd"
      },
      "source": [
        "print(history2)"
      ],
      "execution_count": 18,
      "outputs": [
        {
          "output_type": "stream",
          "name": "stdout",
          "text": [
            "[0.0, 0.0]\n"
          ]
        }
      ]
    },
    {
      "cell_type": "code",
      "metadata": {
        "id": "cpFzyAF89EyF"
      },
      "source": [
        ""
      ],
      "execution_count": 10,
      "outputs": []
    }
  ]
}