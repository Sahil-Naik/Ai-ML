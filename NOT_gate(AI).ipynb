{
  "nbformat": 4,
  "nbformat_minor": 0,
  "metadata": {
    "colab": {
      "name": "NOT_gate(AI).ipynb",
      "provenance": [],
      "collapsed_sections": [],
      "authorship_tag": "ABX9TyO6e4SSjvd71CHJ+nhcw+A1",
      "include_colab_link": true
    },
    "kernelspec": {
      "name": "python3",
      "display_name": "Python 3"
    },
    "language_info": {
      "name": "python"
    }
  },
  "cells": [
    {
      "cell_type": "markdown",
      "metadata": {
        "id": "view-in-github",
        "colab_type": "text"
      },
      "source": [
        "<a href=\"https://colab.research.google.com/github/Sahil-Naik/Ai-ML/blob/main/NOT_gate(AI).ipynb\" target=\"_parent\"><img src=\"https://colab.research.google.com/assets/colab-badge.svg\" alt=\"Open In Colab\"/></a>"
      ]
    },
    {
      "cell_type": "code",
      "metadata": {
        "id": "ZSY5T1VySDwL"
      },
      "source": [
        "import tensorflow as tf\n",
        "import numpy as np\n",
        "import pandas as pd\n",
        "import sys\n",
        "import matplotlib.pyplot as plt"
      ],
      "execution_count": 2,
      "outputs": []
    },
    {
      "cell_type": "code",
      "metadata": {
        "id": "UVCBie4S1Pgc"
      },
      "source": [
        "training_data = np.array([[0],[1]], \"float32\")\n",
        "target_data = np.array([[1],[0]], \"float32\")"
      ],
      "execution_count": 3,
      "outputs": []
    },
    {
      "cell_type": "code",
      "metadata": {
        "id": "A-z6zW211w3A"
      },
      "source": [
        "my_model = tf.keras.models.Sequential()\n",
        "my_model.add(tf.keras.layers.Dense(4, input_dim=1, activation='relu'))\n",
        "my_model.add(tf.keras.layers.Dense(1, activation='sigmoid'))"
      ],
      "execution_count": 4,
      "outputs": []
    },
    {
      "cell_type": "code",
      "metadata": {
        "colab": {
          "base_uri": "https://localhost:8080/"
        },
        "id": "wmn0EuTC2J6I",
        "outputId": "49cdc39f-83f7-41fc-9bdf-f8a78ed52d64"
      },
      "source": [
        "my_model.compile(loss='mean_squared_error', optimizer='adam', metrics=['binary_accuracy'])\n",
        "my_model.summary()"
      ],
      "execution_count": 5,
      "outputs": [
        {
          "output_type": "stream",
          "name": "stdout",
          "text": [
            "Model: \"sequential\"\n",
            "_________________________________________________________________\n",
            " Layer (type)                Output Shape              Param #   \n",
            "=================================================================\n",
            " dense (Dense)               (None, 4)                 8         \n",
            "                                                                 \n",
            " dense_1 (Dense)             (None, 1)                 5         \n",
            "                                                                 \n",
            "=================================================================\n",
            "Total params: 13\n",
            "Trainable params: 13\n",
            "Non-trainable params: 0\n",
            "_________________________________________________________________\n"
          ]
        }
      ]
    },
    {
      "cell_type": "code",
      "metadata": {
        "id": "i30yCaNL3pG_",
        "colab": {
          "base_uri": "https://localhost:8080/"
        },
        "outputId": "482cd901-3f59-4318-d31c-2896b5245686"
      },
      "source": [
        "history = my_model.fit(training_data, target_data, epochs=100, verbose=2)"
      ],
      "execution_count": 6,
      "outputs": [
        {
          "output_type": "stream",
          "name": "stdout",
          "text": [
            "Epoch 1/100\n",
            "1/1 - 2s - loss: 0.2941 - binary_accuracy: 0.0000e+00 - 2s/epoch - 2s/step\n",
            "Epoch 2/100\n",
            "1/1 - 0s - loss: 0.2938 - binary_accuracy: 0.0000e+00 - 14ms/epoch - 14ms/step\n",
            "Epoch 3/100\n",
            "1/1 - 0s - loss: 0.2935 - binary_accuracy: 0.0000e+00 - 8ms/epoch - 8ms/step\n",
            "Epoch 4/100\n",
            "1/1 - 0s - loss: 0.2931 - binary_accuracy: 0.0000e+00 - 9ms/epoch - 9ms/step\n",
            "Epoch 5/100\n",
            "1/1 - 0s - loss: 0.2928 - binary_accuracy: 0.0000e+00 - 8ms/epoch - 8ms/step\n",
            "Epoch 6/100\n",
            "1/1 - 0s - loss: 0.2925 - binary_accuracy: 0.0000e+00 - 10ms/epoch - 10ms/step\n",
            "Epoch 7/100\n",
            "1/1 - 0s - loss: 0.2921 - binary_accuracy: 0.0000e+00 - 9ms/epoch - 9ms/step\n",
            "Epoch 8/100\n",
            "1/1 - 0s - loss: 0.2918 - binary_accuracy: 0.0000e+00 - 19ms/epoch - 19ms/step\n",
            "Epoch 9/100\n",
            "1/1 - 0s - loss: 0.2915 - binary_accuracy: 0.0000e+00 - 12ms/epoch - 12ms/step\n",
            "Epoch 10/100\n",
            "1/1 - 0s - loss: 0.2912 - binary_accuracy: 0.0000e+00 - 21ms/epoch - 21ms/step\n",
            "Epoch 11/100\n",
            "1/1 - 0s - loss: 0.2909 - binary_accuracy: 0.0000e+00 - 8ms/epoch - 8ms/step\n",
            "Epoch 12/100\n",
            "1/1 - 0s - loss: 0.2905 - binary_accuracy: 0.0000e+00 - 22ms/epoch - 22ms/step\n",
            "Epoch 13/100\n",
            "1/1 - 0s - loss: 0.2902 - binary_accuracy: 0.0000e+00 - 8ms/epoch - 8ms/step\n",
            "Epoch 14/100\n",
            "1/1 - 0s - loss: 0.2899 - binary_accuracy: 0.0000e+00 - 8ms/epoch - 8ms/step\n",
            "Epoch 15/100\n",
            "1/1 - 0s - loss: 0.2896 - binary_accuracy: 0.0000e+00 - 8ms/epoch - 8ms/step\n",
            "Epoch 16/100\n",
            "1/1 - 0s - loss: 0.2893 - binary_accuracy: 0.0000e+00 - 6ms/epoch - 6ms/step\n",
            "Epoch 17/100\n",
            "1/1 - 0s - loss: 0.2890 - binary_accuracy: 0.0000e+00 - 10ms/epoch - 10ms/step\n",
            "Epoch 18/100\n",
            "1/1 - 0s - loss: 0.2887 - binary_accuracy: 0.0000e+00 - 10ms/epoch - 10ms/step\n",
            "Epoch 19/100\n",
            "1/1 - 0s - loss: 0.2884 - binary_accuracy: 0.0000e+00 - 14ms/epoch - 14ms/step\n",
            "Epoch 20/100\n",
            "1/1 - 0s - loss: 0.2881 - binary_accuracy: 0.0000e+00 - 8ms/epoch - 8ms/step\n",
            "Epoch 21/100\n",
            "1/1 - 0s - loss: 0.2878 - binary_accuracy: 0.0000e+00 - 7ms/epoch - 7ms/step\n",
            "Epoch 22/100\n",
            "1/1 - 0s - loss: 0.2875 - binary_accuracy: 0.0000e+00 - 14ms/epoch - 14ms/step\n",
            "Epoch 23/100\n",
            "1/1 - 0s - loss: 0.2872 - binary_accuracy: 0.0000e+00 - 4ms/epoch - 4ms/step\n",
            "Epoch 24/100\n",
            "1/1 - 0s - loss: 0.2869 - binary_accuracy: 0.0000e+00 - 8ms/epoch - 8ms/step\n",
            "Epoch 25/100\n",
            "1/1 - 0s - loss: 0.2866 - binary_accuracy: 0.0000e+00 - 4ms/epoch - 4ms/step\n",
            "Epoch 26/100\n",
            "1/1 - 0s - loss: 0.2863 - binary_accuracy: 0.0000e+00 - 12ms/epoch - 12ms/step\n",
            "Epoch 27/100\n",
            "1/1 - 0s - loss: 0.2860 - binary_accuracy: 0.0000e+00 - 4ms/epoch - 4ms/step\n",
            "Epoch 28/100\n",
            "1/1 - 0s - loss: 0.2857 - binary_accuracy: 0.0000e+00 - 11ms/epoch - 11ms/step\n",
            "Epoch 29/100\n",
            "1/1 - 0s - loss: 0.2854 - binary_accuracy: 0.0000e+00 - 9ms/epoch - 9ms/step\n",
            "Epoch 30/100\n",
            "1/1 - 0s - loss: 0.2852 - binary_accuracy: 0.0000e+00 - 8ms/epoch - 8ms/step\n",
            "Epoch 31/100\n",
            "1/1 - 0s - loss: 0.2849 - binary_accuracy: 0.0000e+00 - 4ms/epoch - 4ms/step\n",
            "Epoch 32/100\n",
            "1/1 - 0s - loss: 0.2846 - binary_accuracy: 0.0000e+00 - 7ms/epoch - 7ms/step\n",
            "Epoch 33/100\n",
            "1/1 - 0s - loss: 0.2843 - binary_accuracy: 0.0000e+00 - 11ms/epoch - 11ms/step\n",
            "Epoch 34/100\n",
            "1/1 - 0s - loss: 0.2841 - binary_accuracy: 0.0000e+00 - 13ms/epoch - 13ms/step\n",
            "Epoch 35/100\n",
            "1/1 - 0s - loss: 0.2838 - binary_accuracy: 0.0000e+00 - 11ms/epoch - 11ms/step\n",
            "Epoch 36/100\n",
            "1/1 - 0s - loss: 0.2835 - binary_accuracy: 0.0000e+00 - 10ms/epoch - 10ms/step\n",
            "Epoch 37/100\n",
            "1/1 - 0s - loss: 0.2832 - binary_accuracy: 0.0000e+00 - 6ms/epoch - 6ms/step\n",
            "Epoch 38/100\n",
            "1/1 - 0s - loss: 0.2830 - binary_accuracy: 0.0000e+00 - 11ms/epoch - 11ms/step\n",
            "Epoch 39/100\n",
            "1/1 - 0s - loss: 0.2827 - binary_accuracy: 0.0000e+00 - 6ms/epoch - 6ms/step\n",
            "Epoch 40/100\n",
            "1/1 - 0s - loss: 0.2825 - binary_accuracy: 0.0000e+00 - 11ms/epoch - 11ms/step\n",
            "Epoch 41/100\n",
            "1/1 - 0s - loss: 0.2822 - binary_accuracy: 0.0000e+00 - 24ms/epoch - 24ms/step\n",
            "Epoch 42/100\n",
            "1/1 - 0s - loss: 0.2819 - binary_accuracy: 0.0000e+00 - 12ms/epoch - 12ms/step\n",
            "Epoch 43/100\n",
            "1/1 - 0s - loss: 0.2817 - binary_accuracy: 0.0000e+00 - 15ms/epoch - 15ms/step\n",
            "Epoch 44/100\n",
            "1/1 - 0s - loss: 0.2814 - binary_accuracy: 0.0000e+00 - 15ms/epoch - 15ms/step\n",
            "Epoch 45/100\n",
            "1/1 - 0s - loss: 0.2812 - binary_accuracy: 0.0000e+00 - 13ms/epoch - 13ms/step\n",
            "Epoch 46/100\n",
            "1/1 - 0s - loss: 0.2809 - binary_accuracy: 0.0000e+00 - 14ms/epoch - 14ms/step\n",
            "Epoch 47/100\n",
            "1/1 - 0s - loss: 0.2807 - binary_accuracy: 0.0000e+00 - 5ms/epoch - 5ms/step\n",
            "Epoch 48/100\n",
            "1/1 - 0s - loss: 0.2804 - binary_accuracy: 0.0000e+00 - 5ms/epoch - 5ms/step\n",
            "Epoch 49/100\n",
            "1/1 - 0s - loss: 0.2802 - binary_accuracy: 0.0000e+00 - 12ms/epoch - 12ms/step\n",
            "Epoch 50/100\n",
            "1/1 - 0s - loss: 0.2799 - binary_accuracy: 0.0000e+00 - 15ms/epoch - 15ms/step\n",
            "Epoch 51/100\n",
            "1/1 - 0s - loss: 0.2797 - binary_accuracy: 0.0000e+00 - 12ms/epoch - 12ms/step\n",
            "Epoch 52/100\n",
            "1/1 - 0s - loss: 0.2795 - binary_accuracy: 0.0000e+00 - 9ms/epoch - 9ms/step\n",
            "Epoch 53/100\n",
            "1/1 - 0s - loss: 0.2792 - binary_accuracy: 0.0000e+00 - 11ms/epoch - 11ms/step\n",
            "Epoch 54/100\n",
            "1/1 - 0s - loss: 0.2790 - binary_accuracy: 0.0000e+00 - 10ms/epoch - 10ms/step\n",
            "Epoch 55/100\n",
            "1/1 - 0s - loss: 0.2788 - binary_accuracy: 0.0000e+00 - 10ms/epoch - 10ms/step\n",
            "Epoch 56/100\n",
            "1/1 - 0s - loss: 0.2785 - binary_accuracy: 0.0000e+00 - 7ms/epoch - 7ms/step\n",
            "Epoch 57/100\n",
            "1/1 - 0s - loss: 0.2783 - binary_accuracy: 0.0000e+00 - 7ms/epoch - 7ms/step\n",
            "Epoch 58/100\n",
            "1/1 - 0s - loss: 0.2781 - binary_accuracy: 0.0000e+00 - 10ms/epoch - 10ms/step\n",
            "Epoch 59/100\n",
            "1/1 - 0s - loss: 0.2778 - binary_accuracy: 0.0000e+00 - 4ms/epoch - 4ms/step\n",
            "Epoch 60/100\n",
            "1/1 - 0s - loss: 0.2776 - binary_accuracy: 0.0000e+00 - 6ms/epoch - 6ms/step\n",
            "Epoch 61/100\n",
            "1/1 - 0s - loss: 0.2774 - binary_accuracy: 0.0000e+00 - 19ms/epoch - 19ms/step\n",
            "Epoch 62/100\n",
            "1/1 - 0s - loss: 0.2772 - binary_accuracy: 0.0000e+00 - 10ms/epoch - 10ms/step\n",
            "Epoch 63/100\n",
            "1/1 - 0s - loss: 0.2770 - binary_accuracy: 0.0000e+00 - 17ms/epoch - 17ms/step\n",
            "Epoch 64/100\n",
            "1/1 - 0s - loss: 0.2767 - binary_accuracy: 0.0000e+00 - 30ms/epoch - 30ms/step\n",
            "Epoch 65/100\n",
            "1/1 - 0s - loss: 0.2765 - binary_accuracy: 0.0000e+00 - 10ms/epoch - 10ms/step\n",
            "Epoch 66/100\n",
            "1/1 - 0s - loss: 0.2763 - binary_accuracy: 0.0000e+00 - 10ms/epoch - 10ms/step\n",
            "Epoch 67/100\n",
            "1/1 - 0s - loss: 0.2761 - binary_accuracy: 0.0000e+00 - 16ms/epoch - 16ms/step\n",
            "Epoch 68/100\n",
            "1/1 - 0s - loss: 0.2759 - binary_accuracy: 0.0000e+00 - 11ms/epoch - 11ms/step\n",
            "Epoch 69/100\n",
            "1/1 - 0s - loss: 0.2757 - binary_accuracy: 0.0000e+00 - 11ms/epoch - 11ms/step\n",
            "Epoch 70/100\n",
            "1/1 - 0s - loss: 0.2755 - binary_accuracy: 0.0000e+00 - 11ms/epoch - 11ms/step\n",
            "Epoch 71/100\n",
            "1/1 - 0s - loss: 0.2753 - binary_accuracy: 0.0000e+00 - 14ms/epoch - 14ms/step\n",
            "Epoch 72/100\n",
            "1/1 - 0s - loss: 0.2751 - binary_accuracy: 0.0000e+00 - 12ms/epoch - 12ms/step\n",
            "Epoch 73/100\n",
            "1/1 - 0s - loss: 0.2749 - binary_accuracy: 0.0000e+00 - 9ms/epoch - 9ms/step\n",
            "Epoch 74/100\n",
            "1/1 - 0s - loss: 0.2747 - binary_accuracy: 0.0000e+00 - 10ms/epoch - 10ms/step\n",
            "Epoch 75/100\n",
            "1/1 - 0s - loss: 0.2745 - binary_accuracy: 0.0000e+00 - 10ms/epoch - 10ms/step\n",
            "Epoch 76/100\n",
            "1/1 - 0s - loss: 0.2743 - binary_accuracy: 0.0000e+00 - 10ms/epoch - 10ms/step\n",
            "Epoch 77/100\n",
            "1/1 - 0s - loss: 0.2741 - binary_accuracy: 0.0000e+00 - 11ms/epoch - 11ms/step\n",
            "Epoch 78/100\n",
            "1/1 - 0s - loss: 0.2739 - binary_accuracy: 0.0000e+00 - 16ms/epoch - 16ms/step\n",
            "Epoch 79/100\n",
            "1/1 - 0s - loss: 0.2737 - binary_accuracy: 0.0000e+00 - 8ms/epoch - 8ms/step\n",
            "Epoch 80/100\n",
            "1/1 - 0s - loss: 0.2735 - binary_accuracy: 0.0000e+00 - 30ms/epoch - 30ms/step\n",
            "Epoch 81/100\n",
            "1/1 - 0s - loss: 0.2733 - binary_accuracy: 0.0000e+00 - 11ms/epoch - 11ms/step\n",
            "Epoch 82/100\n",
            "1/1 - 0s - loss: 0.2731 - binary_accuracy: 0.0000e+00 - 7ms/epoch - 7ms/step\n",
            "Epoch 83/100\n",
            "1/1 - 0s - loss: 0.2729 - binary_accuracy: 0.0000e+00 - 9ms/epoch - 9ms/step\n",
            "Epoch 84/100\n",
            "1/1 - 0s - loss: 0.2727 - binary_accuracy: 0.0000e+00 - 11ms/epoch - 11ms/step\n",
            "Epoch 85/100\n",
            "1/1 - 0s - loss: 0.2725 - binary_accuracy: 0.0000e+00 - 11ms/epoch - 11ms/step\n",
            "Epoch 86/100\n",
            "1/1 - 0s - loss: 0.2724 - binary_accuracy: 0.0000e+00 - 11ms/epoch - 11ms/step\n",
            "Epoch 87/100\n",
            "1/1 - 0s - loss: 0.2722 - binary_accuracy: 0.0000e+00 - 14ms/epoch - 14ms/step\n",
            "Epoch 88/100\n",
            "1/1 - 0s - loss: 0.2720 - binary_accuracy: 0.0000e+00 - 7ms/epoch - 7ms/step\n",
            "Epoch 89/100\n",
            "1/1 - 0s - loss: 0.2718 - binary_accuracy: 0.0000e+00 - 17ms/epoch - 17ms/step\n",
            "Epoch 90/100\n",
            "1/1 - 0s - loss: 0.2716 - binary_accuracy: 0.0000e+00 - 4ms/epoch - 4ms/step\n",
            "Epoch 91/100\n",
            "1/1 - 0s - loss: 0.2715 - binary_accuracy: 0.0000e+00 - 10ms/epoch - 10ms/step\n",
            "Epoch 92/100\n",
            "1/1 - 0s - loss: 0.2713 - binary_accuracy: 0.0000e+00 - 13ms/epoch - 13ms/step\n",
            "Epoch 93/100\n",
            "1/1 - 0s - loss: 0.2711 - binary_accuracy: 0.0000e+00 - 17ms/epoch - 17ms/step\n",
            "Epoch 94/100\n",
            "1/1 - 0s - loss: 0.2709 - binary_accuracy: 0.0000e+00 - 7ms/epoch - 7ms/step\n",
            "Epoch 95/100\n",
            "1/1 - 0s - loss: 0.2708 - binary_accuracy: 0.0000e+00 - 9ms/epoch - 9ms/step\n",
            "Epoch 96/100\n",
            "1/1 - 0s - loss: 0.2706 - binary_accuracy: 0.0000e+00 - 7ms/epoch - 7ms/step\n",
            "Epoch 97/100\n",
            "1/1 - 0s - loss: 0.2704 - binary_accuracy: 0.0000e+00 - 9ms/epoch - 9ms/step\n",
            "Epoch 98/100\n",
            "1/1 - 0s - loss: 0.2702 - binary_accuracy: 0.0000e+00 - 6ms/epoch - 6ms/step\n",
            "Epoch 99/100\n",
            "1/1 - 0s - loss: 0.2701 - binary_accuracy: 0.0000e+00 - 7ms/epoch - 7ms/step\n",
            "Epoch 100/100\n",
            "1/1 - 0s - loss: 0.2699 - binary_accuracy: 0.0000e+00 - 7ms/epoch - 7ms/step\n"
          ]
        }
      ]
    },
    {
      "cell_type": "code",
      "metadata": {
        "colab": {
          "base_uri": "https://localhost:8080/"
        },
        "id": "SSuVei_O31MN",
        "outputId": "0f11ee17-afc7-4d6b-cdb5-173e80d00da1"
      },
      "source": [
        "print(my_model.predict(training_data).round())"
      ],
      "execution_count": 7,
      "outputs": [
        {
          "output_type": "stream",
          "name": "stdout",
          "text": [
            "[[0.]\n",
            " [1.]]\n"
          ]
        }
      ]
    },
    {
      "cell_type": "code",
      "metadata": {
        "colab": {
          "base_uri": "https://localhost:8080/",
          "height": 281
        },
        "id": "ZXgKwbhu41YV",
        "outputId": "a4ac7078-9ede-4806-e3e8-df61767b7926"
      },
      "source": [
        "loss_curver = history.history['loss']\n",
        "acc_curver = history.history['binary_accuracy']\n",
        "plt.plot(loss_curver, label='Train')\n",
        "plt.legend(loc='lower left')\n",
        "plt.title('Loss')\n",
        "plt.show()"
      ],
      "execution_count": 8,
      "outputs": [
        {
          "output_type": "display_data",
          "data": {
            "image/png": "[encoded data removed]",
            "text/plain": [
              "<Figure size 432x288 with 1 Axes>"
            ]
          },
          "metadata": {
            "needs_background": "light"
          }
        }
      ]
    },
    {
      "cell_type": "code",
      "metadata": {
        "colab": {
          "base_uri": "https://localhost:8080/",
          "height": 281
        },
        "id": "CFkCyo1q5OWO",
        "outputId": "7d302a85-c3b8-44da-9c22-7e8fcefa593d"
      },
      "source": [
        "plt.plot(acc_curver, label='Train')\n",
        "plt.legend(loc='upper left')\n",
        "plt.title('Accuracy')\n",
        "plt.show()"
      ],
      "execution_count": 9,
      "outputs": [
        {
          "output_type": "display_data",
          "data": {
            "image/png": "[encoded data removed]",
            "text/plain": [
              "<Figure size 432x288 with 1 Axes>"
            ]
          },
          "metadata": {
            "needs_background": "light"
          }
        }
      ]
    },
    {
      "cell_type": "code",
      "metadata": {
        "colab": {
          "base_uri": "https://localhost:8080/"
        },
        "id": "-x4myDOb5Xdn",
        "outputId": "82d5365e-e3cc-47fb-f5f1-7d9a356d2edf"
      },
      "source": [
        "test_data = np.array([[1],[0]])\n",
        "history2 = my_model.predict(test_data, verbose=2)"
      ],
      "execution_count": 10,
      "outputs": [
        {
          "output_type": "stream",
          "name": "stdout",
          "text": [
            "1/1 - 0s - 44ms/epoch - 44ms/step\n"
          ]
        }
      ]
    },
    {
      "cell_type": "code",
      "metadata": {
        "colab": {
          "base_uri": "https://localhost:8080/"
        },
        "id": "QMCBTxwW8a75",
        "outputId": "35183d79-e6d7-4fdd-f663-7931ae7bf109"
      },
      "source": [
        "print(history2.round())"
      ],
      "execution_count": 12,
      "outputs": [
        {
          "output_type": "stream",
          "name": "stdout",
          "text": [
            "[[1.]\n",
            " [0.]]\n"
          ]
        }
      ]
    },
    {
      "cell_type": "code",
      "metadata": {
        "id": "cpFzyAF89EyF"
      },
      "source": [
        ""
      ],
      "execution_count": 11,
      "outputs": []
    }
  ]
}